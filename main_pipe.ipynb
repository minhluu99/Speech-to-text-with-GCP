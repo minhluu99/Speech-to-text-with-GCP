{
 "cells": [
  {
   "cell_type": "code",
   "execution_count": 1,
   "metadata": {},
   "outputs": [
    {
     "name": "stderr",
     "output_type": "stream",
     "text": [
      "The torchaudio backend is switched to 'soundfile'. Note that 'sox_io' is not supported on Windows.\n",
      "The torchaudio backend is switched to 'soundfile'. Note that 'sox_io' is not supported on Windows.\n",
      "[NeMo W 2022-08-25 10:36:50 optimizers:55] Apex was not found. Using the lamb or fused_adam optimizer will error out.\n"
     ]
    },
    {
     "name": "stdout",
     "output_type": "stream",
     "text": [
      "Input/Speaker_wav/Minh Thoa.wav\n"
     ]
    }
   ],
   "source": [
    "from Process_Function import *\n",
    "from Process_Pipeline import *\n",
    "from Process_F import *\n",
    "from split_speaker import *\n",
    "from model_GMM import *\n",
    "from docx import Document"
   ]
  },
  {
   "cell_type": "code",
   "execution_count": 2,
   "metadata": {},
   "outputs": [],
   "source": [
    "from docx import Document\n",
    "def Create_Word(Docx_Name,final_text):\n",
    "    os.makedirs('./ConvertWord/',exist_ok=True)\n",
    "    doc = Document()\n",
    "    doc.add_heading('Conversation',level=0)\n",
    "    for sen in final_text:\n",
    "        doc.add_paragraph(sen.strip())\n",
    "    doc.save(Docx_Name)"
   ]
  },
  {
   "cell_type": "markdown",
   "metadata": {},
   "source": [
    "# Transcribe Audio with Split Function\n",
    "Purpose: To trim long audio, which's duration is longer than 1 minutes. With that, the processing will faster. For audio longer than 1 minutes, you need to send it to Google Cloud, it may take long time for very long audio."
   ]
  },
  {
   "cell_type": "markdown",
   "metadata": {},
   "source": [
    "Split Function: In this implementation, I have two function\n",
    "<ul>\n",
    "<li>Split Audio by silences with <a href=\"https://github.com/jiaaro/pydub\">pydub.AudioSegment</a>\n",
    "</li>\n",
    "<li>Split Audio by speakers with speaker diarization from <a href=\"https://github.com/pyannote/pyannote-audio\">Pyannote</a>\n",
    "</li>\n",
    "<li>Split Audio by speakers with speaker diarization from  \n",
    "<a href=\"https://github.com/pyannote/pyannote-audio\">Agglomerative Clustering Algorithm</a>\n",
    "</li>\n",
    "</ul>"
   ]
  },
  {
   "cell_type": "markdown",
   "metadata": {},
   "source": [
    "# Example 1: \n",
    "https://vov.vn/the-gioi/australia-lap-dat-mat-than-theo-doi-nam-cuc-post965108.vov"
   ]
  },
  {
   "cell_type": "markdown",
   "metadata": {},
   "source": [
    "## Split speakers with Agglomerative Clustering Algorithm\n",
    "This method require K, the number of speaker. I set default equal 2. So that, despite this example just have 1 voice, this one will be splited to 2 speaker."
   ]
  },
  {
   "cell_type": "code",
   "execution_count": 3,
   "metadata": {},
   "outputs": [
    {
     "name": "stdout",
     "output_type": "stream",
     "text": [
      "\t AudioNode  \n",
      "Training GMM..\n",
      "Training Done\n",
      "[{'Speaker': 'Speaker 0', 'Start': 750.0, 'End': 7970.0}, {'Speaker': 'Speaker 1', 'Start': 7970.0, 'End': 11620.0}, {'Speaker': 'Speaker 0', 'Start': 11620.0, 'End': 67710.0}, {'Speaker': 'Speaker 1', 'Start': 67710.0, 'End': 79930.0}, {'Speaker': 'Speaker 0', 'Start': 79930.0, 'End': 84040.0}]\n",
      "Audio_process/0.wav\n",
      "Speaker 0 :\n",
      "hôm nay cơ quan Nam Cực thuộc bộ biến đổi khí hậu năng lượng môi trường và nước của Australia và thông báo cho biết trong\n",
      "\n",
      "Speaker 1 :\n",
      "cơ quan này sẽ lắp đặt hệ thống mắt thần có tên\n",
      "\n",
      "Speaker 0 :\n",
      "Tennis tại Nam Cực để theo dõi sự thay đổi của khí hậu tại khu vực này trong đó có mức độ tuyết rơi tốc độ gió và cả nhiệt độ cùng với các thông tin về thời tiết các mắt thần này cũng hỗ trợ việc quản lý và sử dụng hạ tầng cơ sở tại thực địa để xác định Xem các hạ tầng này có cần phải báo chị hay không là một hệ thống gồm 2 camera trong đó nha chính có chức năng siêu zoom 25x với góc quay 360 độ và một camera khác nhỏ hơn có thể di chuyển ra ngoài và đi vào trong bộ thiết bị, các camera này được đặt trên một khung nhôm và thép chị hình vuông nặng 650 kg cùng với các giá đỡ và bằng điều khiển năng lượng mặt trời và một kính tôi em gửi tin nhắn nào sau không em này của kim loại cao 4 m và là nơi gắn 2 camera hệ thống mất thần đầu tiên đã được chuyển đến trạm David hội đầu năm nay\n",
      "\n",
      "Speaker 1 :\n",
      "lắp đặt trong những tháng tới hai hệ thống Mất phần còn lại sẽ được tiếp tục lắp đặt trong những năm tới Tôi hi vọng việc lắp đặt bạn hệ thống mắc thần sẽ cung cấp các thông tin hữu ích cho\n",
      "\n",
      "Speaker 0 :\n",
      "bảo quản lý để có thể bảo vệ môi trường đặc thù của nam cực và Vũ\n",
      "\n"
     ]
    }
   ],
   "source": [
    "Audio_addr = r'Input\\Australia lap mat than  theo doi Nam Cuc_23-08-2022-10-37-58.wav'\n",
    "Audio_addr = to_wav(Audio_addr)\n",
    "Audio_addr = Link_Audio(Audio_addr)\n",
    "\n",
    "aPipeline = Init_Pipeline(Audio_addr)\n",
    "\n",
    "Func_Pipeline(aPipeline,Split_speaker_GMM,set_channel=True)\n",
    "\n",
    "info,HashList = aPipeline.prepare_to_S2t(-1,set_channels = True)\n",
    "\n",
    "S2t(HashList)\n",
    "StringList = S2t_get_str(HashList)\n",
    "S2t_filter(StringList)\n",
    "final_text = S2t_print(StringList)\n",
    "doc = Document()\n",
    "for sen in final_text:\n",
    "    doc.add_paragraph(sen.strip())\n",
    "Docx_ = 'Ex1_Split_speaker_GMM.docx'\n",
    "doc.save(Docx_)"
   ]
  },
  {
   "cell_type": "markdown",
   "metadata": {},
   "source": [
    "## Split speakers with Pyannote\n",
    "This method will choose the number of speakers automatedly. But after run many sample, the previous one will split better than this one, if it have right K."
   ]
  },
  {
   "cell_type": "code",
   "execution_count": 4,
   "metadata": {},
   "outputs": [
    {
     "name": "stdout",
     "output_type": "stream",
     "text": [
      "\t AudioNode  \n",
      "Audio_process/0.wav\n",
      "SPEAKER_00 :\n",
      "hôm nay cơ quan Nam Cực thuộc bộ biến đổi khí hậu năng lượng môi trường và nước của Australia và thông báo cho biết trong những năm tới cơ quan này sẽ lắp đặt ba hệ thống mắt thần có tên gọi là em ít tại Nam Cực để theo dõi sự thay đổi của khí hậu tại khu vực này trong đó có mức độ tuyết rơi tốc độ gió và cả nhiệt độ\n",
      "\n",
      "SPEAKER_00 :\n",
      "cùng với các thông tin về thời tiết các nốt lần này cũng hỗ trợ việc quản lý và sử dụng hạ tầng cơ sở tại thực hiện để xác định Xem các hạ tầng này có cần phải báo chị hay không\n",
      "\n",
      "SPEAKER_00 :\n",
      "mắt thần anh em asp là một hệ thống gồm 2 camera trong đó camera kính có chức năng siêu zoom 25x với góc quay 360 độ và một camera khác nhỏ hơn có thể chuyển ra ngoài và đi vào trong bộ thiết bị\n",
      "\n",
      "SPEAKER_00 :\n",
      "các camera này được đặt trên một khung nhôm và thép hình vuông nặng 650 kg cùng với các giá đỡ và bằng điều khiển năng lượng mặt trời và một anken bạn tinh\n",
      "\n",
      "SPEAKER_00 :\n",
      "vẫn bảo sao không như này là 1 một kim loại cao 4 m và là nơi gắn 2 camera\n",
      "\n",
      "SPEAKER_00 :\n",
      "hệ thống mắt thần Artemis đầu tiên đã được chuyển đến trạm David hồi đầu năm nay để chuẩn bị cho việc lắp đặt trong những tháng tới\n",
      "\n",
      "SPEAKER_00 :\n",
      "hai hệ thống Mất phần còn lại sẽ được tiếp tục lắp đặt trong những năm tới\n",
      "\n",
      "SPEAKER_00 :\n",
      "Australia hy vọng việc lắp đặt bạn hệ thống mắt thần sẽ cung cấp các thông tin hữu ích cho các nhà khoa học và quản lý để có thể bảo vệ môi trường đặc thù của nam cực và vùng cực nam cực\n",
      "\n"
     ]
    }
   ],
   "source": [
    "Audio_addr = r'Input\\Australia lap mat than  theo doi Nam Cuc_23-08-2022-10-37-58.wav'\n",
    "Audio_addr = to_wav(Audio_addr)\n",
    "Audio_addr = Link_Audio(Audio_addr)\n",
    "\n",
    "aPipeline = Init_Pipeline(Audio_addr)\n",
    "\n",
    "Func_Pipeline(aPipeline,Split_speaker,set_channel=False)\n",
    "\n",
    "info,HashList = aPipeline.prepare_to_S2t(-1,set_channels = True)\n",
    "\n",
    "S2t(HashList)\n",
    "StringList = S2t_get_str(HashList)\n",
    "S2t_filter(StringList)\n",
    "final_text = S2t_print(StringList)\n",
    "doc = Document()\n",
    "for sen in final_text:\n",
    "    doc.add_paragraph(sen.strip())\n",
    "Docx_ = 'Ex1_Split_speaker_Pyannote.docx'\n",
    "doc.save(Docx_)"
   ]
  },
  {
   "cell_type": "markdown",
   "metadata": {},
   "source": [
    "## Split silences with silences time no longer than 500 ms"
   ]
  },
  {
   "cell_type": "code",
   "execution_count": 5,
   "metadata": {},
   "outputs": [
    {
     "name": "stdout",
     "output_type": "stream",
     "text": [
      "\t AudioNode  \n",
      "Audio_process/0.wav\n",
      "hôm nay cơ quan Nam Cực thuộc bộ biến đổi khí hậu năng lượng môi trường và nước của Australia và thông báo cho biết\n",
      "\n",
      "trong những năm tới cơ quan này sẽ lắp đặt ba hệ thống mắt thần có tên gọi là em ít tại Nam Cực\n",
      "\n",
      "để theo dõi sự thay đổi của khí hậu tại khu vực này\n",
      "\n",
      "trong đó có mức độ tuyết rơi tốc độ gió và cả nhiệt độ\n",
      "\n",
      "cùng với các thông tin về thời tiết các nốt lần này cũng hỗ trợ việc quản lý và sử dụng hạ tầng cơ sở tại thực hiện\n",
      "\n",
      "để xác định Xem các hạ tầng này có cần phải báo chị hay không\n",
      "\n",
      "mắt thần Artemis là một hệ thống gồm 2 camera\n",
      "\n",
      "trong đó camera kính có chức năng siêu zoom 25x với góc quay 360 độ\n",
      "\n",
      "và một camera khác nhỏ hơn có thể di chuyển ra ngoài và đi vào trong bộ thiết bị\n",
      "\n",
      "các camera này được đặt trên một khung nhôm và thép hình vuông nặng 650 kg cùng với các giá đỡ và bằng điều khiển năng lượng mặt trời và một anken bạn tinh\n",
      "\n",
      "vẫn bảo sao không hôm này là 1 một kim loại cao 4 m và là nơi gắn 2 camera\n",
      "\n",
      "hệ thống mắt thần Artemis đầu tiên đã được chuyển đến trạm David hội đầu năm nay\n",
      "\n",
      "để chuẩn bị cho việc lắp đặt trong những tháng tới\n",
      "\n",
      "hai hệ thống Mất phần còn lại sẽ được tiếp tục lắp đặt trong những năm tới\n",
      "\n",
      "Australia chị vọng việc lắp đặt bạn hệ thống mắt thần sẽ cung cấp các thông tin hữu ích cho các nhà khoa học và quản lý\n",
      "\n",
      "để có thể bảo vệ môi trường đặc thù của nam cực và vùng cực nam cực\n",
      "\n"
     ]
    }
   ],
   "source": [
    "Audio_addr = r'Input\\Australia lap mat than  theo doi Nam Cuc_23-08-2022-10-37-58.wav'\n",
    "Audio_addr = to_wav(Audio_addr)\n",
    "Audio_addr = Link_Audio(Audio_addr)\n",
    "\n",
    "aPipeline = Init_Pipeline(Audio_addr)\n",
    "\n",
    "Func_Pipeline(aPipeline,Split_silence,set_channel=False)\n",
    "\n",
    "info,HashList = aPipeline.prepare_to_S2t(-1,set_channels = True)\n",
    "\n",
    "S2t(HashList)\n",
    "StringList = S2t_get_str(HashList)\n",
    "S2t_filter(StringList)\n",
    "final_text = S2t_print(StringList)\n",
    "doc = Document()\n",
    "for sen in final_text:\n",
    "    doc.add_paragraph(sen.strip())\n",
    "Docx_ = 'Ex1_Split_silences_500ms.docx'\n",
    "doc.save(Docx_)"
   ]
  },
  {
   "cell_type": "markdown",
   "metadata": {},
   "source": [
    "# Example 2:\n",
    "https://www.qdnd.vn/giao-duc-khoa-hoc/tin-tuc/giao-vien-chua-dat-chuan-o-cap-tieu-hoc-chiem-ty-le-cao-nhat-702958"
   ]
  },
  {
   "cell_type": "markdown",
   "metadata": {},
   "source": [
    "## Split speakers with Agglomerative Clustering Algorithm"
   ]
  },
  {
   "cell_type": "code",
   "execution_count": 6,
   "metadata": {},
   "outputs": [
    {
     "name": "stdout",
     "output_type": "stream",
     "text": [
      "\t AudioNode  \n",
      "Training GMM..\n",
      "Training Done\n",
      "[{'Speaker': 'Speaker 1', 'Start': 260.0, 'End': 4830.0}, {'Speaker': 'Speaker 0', 'Start': 4830.0, 'End': 11500.0}, {'Speaker': 'Speaker 1', 'Start': 11500.0, 'End': 28960.0}, {'Speaker': 'Speaker 0', 'Start': 28960.0, 'End': 42710.0}]\n",
      "Audio_process/0.wav\n",
      "Speaker 1 :\n",
      "anh em mình chưa đạt chuẩn ở cấp tiểu học chiếm tỷ lệ cao nhất\n",
      "\n",
      "Speaker 0 :\n",
      "Theo thống kê của Bộ Giáo dục và Đào tạo huyện có 25,2% giáo viên tiểu học cả nước chưa đạt chuẩn trình độ đào\n",
      "\n",
      "Speaker 1 :\n",
      "cụ thể Chị là giáo viên đạt chuẩn về trình độ đào tạo theo luật giáo dục 2019 ở cấp Mầm non là 90,7% tiểu học là 74,8% trung học cơ sở là 86,1% trung học phổ thông là 99,9%\n",
      "\n",
      "Speaker 0 :\n",
      "như vậy cách tiểu học có tỉ lệ giáo viên chưa đạt chuẩn cao nhất với 25,2% tiếp đó là cách trung học cơ sở với 13,9% cấp Mầm non là 8,3% cấp trung học phổ thông có tỉ lệ giáo viên chưa đạt chuẩn chị 0,1%\n",
      "\n"
     ]
    }
   ],
   "source": [
    "Audio_addr = r'Input\\giao-vien-chua-dat-chuan-o-cap-tieu-hoc-chiem-ty-le-cao-nhat.m4a'\n",
    "Audio_addr = to_wav(Audio_addr)\n",
    "Audio_addr = Link_Audio(Audio_addr)\n",
    "\n",
    "aPipeline = Init_Pipeline(Audio_addr)\n",
    "aPipeline.To_Channel(1)\n",
    "Func_Pipeline(aPipeline,Split_speaker_GMM,set_channel=False)\n",
    "\n",
    "info,HashList = aPipeline.prepare_to_S2t(-1,set_channels=False)\n",
    "\n",
    "S2t(HashList)\n",
    "StringList = S2t_get_str(HashList)\n",
    "S2t_filter(StringList)\n",
    "final_text = S2t_print(StringList)\n",
    "doc = Document()\n",
    "for sen in final_text:\n",
    "    doc.add_paragraph(sen.strip())\n",
    "Docx_ = 'Ex2_Split_speaker_GMM.docx'\n",
    "doc.save(Docx_)"
   ]
  },
  {
   "cell_type": "markdown",
   "metadata": {},
   "source": [
    "## Split speakers with Pyannote"
   ]
  },
  {
   "cell_type": "code",
   "execution_count": 7,
   "metadata": {},
   "outputs": [
    {
     "name": "stdout",
     "output_type": "stream",
     "text": [
      "\t AudioNode  \n",
      "Audio_process/0.wav\n",
      "SPEAKER_00 :\n",
      "anh em mình chưa đạt chuẩn ở cấp tiểu học chiếm tỷ lệ cao nhất\n",
      "\n",
      "SPEAKER_00 :\n",
      "Theo thống kê của Bộ Giáo dục và Đào tạo huyện có 25,2% giáo viên tiểu học cả nước chưa đạt chuẩn trình độ đào tạo\n",
      "\n",
      "SPEAKER_00 :\n",
      "cụ thể chị tôi là giáo viên đạt chuẩn về trình độ đào tạo theo luật giáo dục 2019 ở cấp Mầm non là 90,7% tiểu học là 74,8% trung học cơ sở là 66,1% trung học là 99,9%\n",
      "\n",
      "SPEAKER_00 :\n",
      "như vậy cách tiểu học có tỉ lệ giáo viên chưa đạt chuẩn cao nhất với 25,2% tiếp đó là cách trung học cơ sở với 13,9% cấp Mầm non là 8,3% cấp trung học phổ thông có tỉ lệ giáo viên chưa đạt chuẩn chị 0,1%\n",
      "\n"
     ]
    }
   ],
   "source": [
    "Audio_addr = r'Input\\giao-vien-chua-dat-chuan-o-cap-tieu-hoc-chiem-ty-le-cao-nhat.m4a'\n",
    "Audio_addr = to_wav(Audio_addr)\n",
    "Audio_addr = Link_Audio(Audio_addr)\n",
    "\n",
    "aPipeline = Init_Pipeline(Audio_addr)\n",
    "aPipeline.To_Channel(1)\n",
    "Func_Pipeline(aPipeline,Split_speaker,set_channel=False)\n",
    "\n",
    "info,HashList = aPipeline.prepare_to_S2t(-1,set_channels=False)\n",
    "\n",
    "S2t(HashList)\n",
    "StringList = S2t_get_str(HashList)\n",
    "S2t_filter(StringList)\n",
    "final_text = S2t_print(StringList)\n",
    "doc = Document()\n",
    "for sen in final_text:\n",
    "    doc.add_paragraph(sen.strip())\n",
    "Docx_ = 'Ex2_Split_speaker_Pyannote.docx'\n",
    "doc.save(Docx_)"
   ]
  },
  {
   "cell_type": "markdown",
   "metadata": {},
   "source": [
    "## Split silences with silences time no longer than 500 ms"
   ]
  },
  {
   "cell_type": "code",
   "execution_count": 8,
   "metadata": {},
   "outputs": [
    {
     "name": "stdout",
     "output_type": "stream",
     "text": [
      "\t AudioNode  \n",
      "Audio_process/0.wav\n",
      "anh em mình chưa đạt chuẩn ở cấp tiểu học chiếm tỷ lệ cao nhất theo thống kê của Bộ Giáo dục và Đào tạo huyện có 25,2% giáo viên tiểu học\n",
      "\n",
      "cả nước chưa đạt chuẩn trình độ đào tạo,  cụ thể Chị là giáo viên đạt chuẩn về trình độ đào tạo theo luật giáo dục 2019 ở cấp Mầm non là 90,7% tiểu học là 74,8% trung học cơ sở là 66,1% trung học phí là 99,9%\n",
      "\n",
      "như vậy cấp tiểu học có tỉ lệ giáo viên chưa đạt chuẩn cao nhất với 25,2% tiếp đó là cấp trung học cơ sở với 13,9% cấp Mầm non là 8,3% cấp trung học phổ thông có tỉ lệ giáo viên chưa đạt chuẩn\n",
      "\n"
     ]
    }
   ],
   "source": [
    "Audio_addr = r'Input\\giao-vien-chua-dat-chuan-o-cap-tieu-hoc-chiem-ty-le-cao-nhat.m4a'\n",
    "Audio_addr = to_wav(Audio_addr)\n",
    "Audio_addr = Link_Audio(Audio_addr)\n",
    "\n",
    "aPipeline = Init_Pipeline(Audio_addr)\n",
    "aPipeline.To_Channel(1)\n",
    "Func_Pipeline(aPipeline,Split_silence,set_channel=False)\n",
    "\n",
    "info,HashList = aPipeline.prepare_to_S2t(-1,set_channels = False)\n",
    "\n",
    "S2t(HashList)\n",
    "StringList = S2t_get_str(HashList)\n",
    "S2t_filter(StringList)\n",
    "final_text = S2t_print(StringList)\n",
    "doc = Document()\n",
    "for sen in final_text:\n",
    "    doc.add_paragraph(sen.strip())\n",
    "Docx_ = 'Ex2_Split_silences_500ms.docx'\n",
    "doc.save(Docx_)"
   ]
  }
 ],
 "metadata": {
  "kernelspec": {
   "display_name": "Python 3.9.12 ('s2t_GCP_GPU')",
   "language": "python",
   "name": "python3"
  },
  "language_info": {
   "codemirror_mode": {
    "name": "ipython",
    "version": 3
   },
   "file_extension": ".py",
   "mimetype": "text/x-python",
   "name": "python",
   "nbconvert_exporter": "python",
   "pygments_lexer": "ipython3",
   "version": "3.9.12"
  },
  "orig_nbformat": 4,
  "vscode": {
   "interpreter": {
    "hash": "94c3c3d2c2704898675f7299ccfd62b0d29c6fad15195bc94bab4ea41463e70e"
   }
  }
 },
 "nbformat": 4,
 "nbformat_minor": 2
}
